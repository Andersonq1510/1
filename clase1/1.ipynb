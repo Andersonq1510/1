{
  "nbformat": 4,
  "nbformat_minor": 0,
  "metadata": {
    "colab": {
      "name": "1.ipynb",
      "provenance": [],
      "collapsed_sections": [],
      "authorship_tag": "ABX9TyPTUCsH7Hx4okyOFoYOZJz+",
      "include_colab_link": true
    },
    "kernelspec": {
      "name": "python3",
      "display_name": "Python 3"
    },
    "language_info": {
      "name": "python"
    }
  },
  "cells": [
    {
      "cell_type": "markdown",
      "metadata": {
        "id": "view-in-github",
        "colab_type": "text"
      },
      "source": [
        "<a href=\"https://colab.research.google.com/github/Andersonq1510/1/blob/main/clase1/1.ipynb\" target=\"_parent\"><img src=\"https://colab.research.google.com/assets/colab-badge.svg\" alt=\"Open In Colab\"/></a>"
      ]
    },
    {
      "cell_type": "markdown",
      "source": [
        "PROBLEMA #1\n",
        "SUMA DE A+B"
      ],
      "metadata": {
        "id": "NmGbB0IUQe09"
      }
    },
    {
      "cell_type": "code",
      "execution_count": null,
      "metadata": {
        "colab": {
          "base_uri": "https://localhost:8080/"
        },
        "id": "8yZYCY3GQdtr",
        "outputId": "94f83ad1-9871-4179-c735-fa7a3a7b2104"
      },
      "outputs": [
        {
          "output_type": "stream",
          "name": "stdout",
          "text": [
            "introduzca el numero a 13592\n",
            "introduzca el numero b 9742\n",
            "el resultado de la suma es 23334\n"
          ]
        }
      ],
      "source": [
        "def suma(x,y):\n",
        "  self.a=x\n",
        "  self.b=y\n",
        "x= int(input('introduzca el numero a '))\n",
        "y= int(input('introduzca el numero b '))\n",
        "print(\"el resultado de la suma es\",x+y)"
      ]
    },
    {
      "cell_type": "markdown",
      "source": [
        "PROBLEMA #2 SUMA EN BUCLE"
      ],
      "metadata": {
        "id": "2bov4Nj9SE5H"
      }
    },
    {
      "cell_type": "code",
      "source": [
        "lista=[]\n",
        "for x in range(int(input(\"ingrese la cantidad de numeros a sumar: \"))):\n",
        "    valor=int(input(\"\"))\n",
        "    lista.append(valor)\n",
        "print(\"el resultado de la suma es:\",sum(lista))"
      ],
      "metadata": {
        "colab": {
          "base_uri": "https://localhost:8080/"
        },
        "id": "yZG3prMd5_Xj",
        "outputId": "1a1b31d7-ef83-4583-ce9c-dea1d897a1ad"
      },
      "execution_count": null,
      "outputs": [
        {
          "output_type": "stream",
          "name": "stdout",
          "text": [
            "ingrese la cantidad de numeros a sumar: 8\n",
            "10\n",
            "20\n",
            "30\n",
            "40\n",
            "5\n",
            "6\n",
            "7\n",
            "8\n",
            "el resultado de la suma es 126\n"
          ]
        }
      ]
    },
    {
      "cell_type": "markdown",
      "source": [
        "PROBLEMA #3 SUMAS EN BUCLE"
      ],
      "metadata": {
        "id": "Uj8qFOMjj7P5"
      }
    },
    {
      "cell_type": "markdown",
      "source": [
        "PROBLEMA #4 MINIMO DE DOS"
      ],
      "metadata": {
        "id": "2qH144jAiJnK"
      }
    },
    {
      "cell_type": "code",
      "source": [
        "numeros = []\n",
        "for i in range(2):\n",
        "  numero = int(input(\"Introduce el número #{}: \".format(i + 1)))\n",
        "  numeros.append(numero)\n",
        "menor = numeros[0]\n",
        "for numero in numeros:\n",
        "    if numero < menor:\n",
        "        menor = numero\n",
        "print(\"MINIMO:\", menor)"
      ],
      "metadata": {
        "colab": {
          "base_uri": "https://localhost:8080/"
        },
        "id": "zqyg72SMeEUI",
        "outputId": "c2401f49-ca8d-4257-86e5-63b579d054a2"
      },
      "execution_count": null,
      "outputs": [
        {
          "output_type": "stream",
          "name": "stdout",
          "text": [
            "Introduce el número #1: 1\n",
            "Introduce el número #2: 2\n",
            "menor: 1\n"
          ]
        }
      ]
    },
    {
      "cell_type": "markdown",
      "source": [
        "PROBLEMA #5 MINIMO DE TRES"
      ],
      "metadata": {
        "id": "9U3feYKSiOg6"
      }
    },
    {
      "cell_type": "code",
      "source": [
        "numeros = []\n",
        "for i in range(3):\n",
        "  numero = int(input(\"Introduce el número #{}: \".format(i + 1)))\n",
        "  numeros.append(numero)\n",
        "menor = numeros[0]\n",
        "for numero in numeros:\n",
        "    if numero < menor:\n",
        "        menor = numero\n",
        "print(\"MINIMO:\", menor)"
      ],
      "metadata": {
        "colab": {
          "base_uri": "https://localhost:8080/"
        },
        "id": "SiCWXXxZiN2J",
        "outputId": "5c233e97-bc46-4c95-ff38-5e4c3bf4f57a"
      },
      "execution_count": null,
      "outputs": [
        {
          "output_type": "stream",
          "name": "stdout",
          "text": [
            "Introduce el número #1: 4\n",
            "Introduce el número #2: 99\n",
            "Introduce el número #3: 0\n",
            "MINIMO: 0\n"
          ]
        }
      ]
    },
    {
      "cell_type": "markdown",
      "source": [
        "PROBLEMA #6 REDONDEO"
      ],
      "metadata": {
        "id": "a_cnajX1AnEp"
      }
    },
    {
      "cell_type": "code",
      "source": [
        "def division(x,y):\n",
        "  return (x/y)\n",
        "veces= int(input(\"para que cantidad de divisiones a realizar \"))\n",
        "for i in range(veces):\n",
        "  x=int(input(\"escriba el dividendo \"))\n",
        "  y=int(input(\"escriba el divisor \"))\n",
        "  a=division(x,y)\n",
        "  print(f\"el resultado es {round(a)}\")\n"
      ],
      "metadata": {
        "colab": {
          "base_uri": "https://localhost:8080/"
        },
        "id": "r4SU9Wj9ArIY",
        "outputId": "d142a790-bd2a-4e5d-b58c-792961a711a5"
      },
      "execution_count": null,
      "outputs": [
        {
          "output_type": "stream",
          "name": "stdout",
          "text": [
            "para que cantidad de divisiones a realizar 3\n",
            "escriba el dividendo 12\n",
            "escriba el divisor 8\n",
            "el resultado es 2\n",
            "escriba el dividendo 11\n",
            "escriba el divisor -3\n",
            "el resultado es -4\n",
            "escriba el dividendo 400\n",
            "escriba el divisor 5\n",
            "el resultado es 80\n"
          ]
        }
      ]
    },
    {
      "cell_type": "markdown",
      "source": [
        "PROBLEMA #7 FAHRENHEIT A CELCIUS"
      ],
      "metadata": {
        "id": "AngBFj9bu6nM"
      }
    },
    {
      "cell_type": "code",
      "source": [
        "def Fahrenheitacelcius(Fahrenheit):\n",
        "  return (Fahrenheit-32)*(5/9)\n",
        "veces= int(input(\"para que cantidad de temperaturas necesita realizar la conversion \"))\n",
        "for i in range(veces):\n",
        "  x=float(input(\"escriba la temperatura en grados farenheit \"))\n",
        "  a=Fahrenheitacelcius(x)\n",
        "  print(f\"la conversion a grados celcius es {round(a)} °\")"
      ],
      "metadata": {
        "colab": {
          "base_uri": "https://localhost:8080/"
        },
        "id": "F1xrRdNQ9QFH",
        "outputId": "30320bf2-16d5-40b0-8080-e206d9ee7a87"
      },
      "execution_count": null,
      "outputs": [
        {
          "output_type": "stream",
          "name": "stdout",
          "text": [
            "para que cantidad de temperaturas necesita realizar la conversion 3\n",
            "escriba la temperatura en grados farenheit 45\n",
            "la conversion a grados celcius es 7 °\n",
            "escriba la temperatura en grados farenheit 67\n",
            "la conversion a grados celcius es 19 °\n",
            "escriba la temperatura en grados farenheit 98\n",
            "la conversion a grados celcius es 37 °\n"
          ]
        }
      ]
    },
    {
      "cell_type": "markdown",
      "source": [
        "PROBLEMA #8 PROGRESION ARITMETICA"
      ],
      "metadata": {
        "id": "mihRxzyIKNw3"
      }
    },
    {
      "cell_type": "code",
      "source": [
        "n = int(input('¿Valor de n?: '))\n",
        "a = int(input('factor a: '))\n",
        "r = int(input('factor r: '))\n",
        "while (r==1):\n",
        "    r = int(input('factor r debe ser diferente de 1: '))\n",
        "s = 0\n",
        "i = 1\n",
        "\n",
        "while (i<=n):\n",
        "    t = a+((i-1)*r)\n",
        "    s = s + t\n",
        "    i = i+1\n",
        "print(s)"
      ],
      "metadata": {
        "colab": {
          "base_uri": "https://localhost:8080/"
        },
        "id": "dnes6X0DN8XQ",
        "outputId": "f29e6ecb-29c0-4733-b8f5-f37d95a2c876"
      },
      "execution_count": null,
      "outputs": [
        {
          "output_type": "stream",
          "name": "stdout",
          "text": [
            "¿Valor de n?: 4\n",
            "factor a: 5\n",
            "factor r: 2\n",
            "32\n"
          ]
        }
      ]
    },
    {
      "cell_type": "markdown",
      "source": [
        "PROBLEMA #15 MAXIMOS DE UNA MATRIZ"
      ],
      "metadata": {
        "id": "1pSSoLmMkXL4"
      }
    },
    {
      "cell_type": "code",
      "source": [
        "filas=int(input(\"introduce el numero de filas\"))\n",
        "columnas=int(input(\"introduce el numero de columnas\"))\n",
        "matriz=[]\n",
        "for i in range(filas):\n",
        "  matriz.append([])\n",
        "  for j in range(columnas):\n",
        "    valor=int(input(\"fila{},columna{}:\".format(i+1,j+1)))\n",
        "    matriz[i].append(valor)\n",
        "print()\n",
        "for fila in matriz:\n",
        "  print(\"[\",end=\" \")\n",
        "  for elemento in fila:\n",
        "    print(\"{:8.2f}\".format(elemento), end=\" \")\n",
        "  print(\"]\")\n",
        "print()"
      ],
      "metadata": {
        "colab": {
          "base_uri": "https://localhost:8080/"
        },
        "id": "1T_F5jWqoHOG",
        "outputId": "6859ba33-4e43-40bd-88e2-f1ca05c70c9f"
      },
      "execution_count": null,
      "outputs": [
        {
          "output_type": "stream",
          "name": "stdout",
          "text": [
            "introduce el numero de filas3\n",
            "introduce el numero de columnas6\n",
            "fila1,columna1:1\n",
            "fila1,columna2:3\n",
            "fila1,columna3:5\n",
            "fila1,columna4:7\n",
            "fila1,columna5:9\n",
            "fila1,columna6:11\n",
            "fila2,columna1:295\n",
            "fila2,columna2:297\n",
            "fila2,columna3:299\n",
            "fila2,columna4:300\n",
            "fila2,columna5:298\n",
            "fila2,columna6:296\n",
            "fila3,columna1:12\n",
            "fila3,columna2:10\n",
            "fila3,columna3:8\n",
            "fila3,columna4:6\n",
            "fila3,columna5:4\n",
            "fila3,columna6:2\n",
            "\n",
            "[     1.00     3.00     5.00     7.00     9.00    11.00 ]\n",
            "[   295.00   297.00   299.00   300.00   298.00   296.00 ]\n",
            "[    12.00    10.00     8.00     6.00     4.00     2.00 ]\n",
            "\n"
          ]
        }
      ]
    },
    {
      "cell_type": "code",
      "source": [
        "matriza = [[1,3,5,7,9,11],\n",
        "      [295,297,299,300,298,296], \n",
        "      [12,10,8,6,4,2]]"
      ],
      "metadata": {
        "id": "m2gYVoGTtdKq"
      },
      "execution_count": null,
      "outputs": []
    },
    {
      "cell_type": "code",
      "source": [
        "maximo = max(max(fila) for fila in matriza)\n",
        "minimo = min(min(fila) for fila in matriza)\n",
        "\n",
        "print(minimo, maximo)"
      ],
      "metadata": {
        "colab": {
          "base_uri": "https://localhost:8080/"
        },
        "id": "98kgpIxMkaW8",
        "outputId": "c1b5845f-bb76-4452-ac59-5bfb6ef9fec6"
      },
      "execution_count": null,
      "outputs": [
        {
          "output_type": "stream",
          "name": "stdout",
          "text": [
            "1 300\n"
          ]
        }
      ]
    },
    {
      "cell_type": "markdown",
      "source": [
        "PROBLEMA #20 CONTAR VOCALES"
      ],
      "metadata": {
        "id": "gbb0RL4eumlg"
      }
    },
    {
      "cell_type": "code",
      "source": [
        "def contar_vocales(cad):\n",
        "    voc = 0\n",
        "    for c in cad:\n",
        "        if c == \"a\" or c == \"e\" or c == \"i\" or c ==\"o\" or c == \"u\" or c==\"y\" or c == \"A\" or c == \"E\" or c == \"I\" or c ==\"O\" or c == \"U\" or c==\"Y\":\n",
        "            voc=voc+1\n",
        "    return voc\n",
        "veces= int(input(\"que cantidad de veces desea que se realice el conteo \"))\n",
        "for i in range(veces):\n",
        "  cad = input(\"\")\n",
        "  print (contar_vocales(cad))"
      ],
      "metadata": {
        "colab": {
          "base_uri": "https://localhost:8080/"
        },
        "id": "YuHCS9RPwys_",
        "outputId": "cfc6a076-521f-4bb1-e2c5-d09bf3090619"
      },
      "execution_count": null,
      "outputs": [
        {
          "output_type": "stream",
          "name": "stdout",
          "text": [
            "que cantidad de veces desea que se realice el conteo 4\n",
            "anderson\n",
            "3\n",
            "arley\n",
            "3\n",
            "quintero\n",
            "4\n",
            "morales\n",
            "3\n"
          ]
        }
      ]
    },
    {
      "cell_type": "markdown",
      "source": [
        "PROBLEMA #28 INDICE DE MASA CORPORAL"
      ],
      "metadata": {
        "id": "XHHKkf4HzIpB"
      }
    },
    {
      "cell_type": "code",
      "source": [
        "def IndiceMasaCorporal(altura,peso):\n",
        "  indice = peso/(altura**2) \n",
        "  if (indice < 16):\n",
        "      estado='Muy bajo de peso'\n",
        "  elif (indice >= 16 and indice < 18.5):\n",
        "      estado= 'Bajo de peso'\n",
        "  elif (indice >= 18.5 and indice < 25):\n",
        "      estado= 'Saludable'\n",
        "  elif ( indice >= 25 and indice < 30):\n",
        "   estado='Sobrepeso'\n",
        "  elif ( indice >=30):\n",
        "   estado='Obeso'\n",
        "  return indice, estado\n",
        "x=float(input(\"escriba su altura \"))\n",
        "y=float(input(\"escriba su peso \"))\n",
        "a=IndiceMasaCorporal(x,y)\n",
        "print('Tu IMC es {0:.2f}'.format(a[0]), ' y tu estado es:', a[1],'.' )"
      ],
      "metadata": {
        "colab": {
          "base_uri": "https://localhost:8080/"
        },
        "id": "jnBCEf2NzPwn",
        "outputId": "acc5632a-0f4c-497b-8d21-6cd2207ce6a5"
      },
      "execution_count": null,
      "outputs": [
        {
          "output_type": "stream",
          "name": "stdout",
          "text": [
            "escriba su altura 1.69\n",
            "escriba su peso 60\n",
            "Tu IMC es 21.01  y tu estado es: Saludable .\n"
          ]
        }
      ]
    }
  ]
}